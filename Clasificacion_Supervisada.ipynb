{
 "cells": [
  {
   "cell_type": "markdown",
   "metadata": {
    "id": "OReQMkJa8yzF"
   },
   "source": [
    "# Machine Learning: Supervised Classification"
   ]
  },
  {
   "cell_type": "code",
   "execution_count": 3,
   "metadata": {
    "executionInfo": {
     "elapsed": 9799,
     "status": "ok",
     "timestamp": 1688597501090,
     "user": {
      "displayName": "Carlos Alberto Vaquera Araujo",
      "userId": "08698010318067463324"
     },
     "user_tz": 360
    },
    "id": "5sTzTRSOQUQX"
   },
   "outputs": [],
   "source": [
    "import pandas as pd\n",
    "import numpy as np\n",
    "import seaborn as sns\n",
    "import matplotlib.pyplot as plt\n",
    "from sklearn.model_selection import train_test_split, cross_val_score\n",
    "from sklearn.linear_model import LogisticRegression\n",
    "from sklearn.preprocessing import LabelEncoder, StandardScaler\n",
    "from sklearn.metrics import (confusion_matrix, precision_score,accuracy_score,\n",
    "                            recall_score,mean_squared_error,roc_curve, auc)\n",
    "import tensorflow as tf\n",
    "from tensorflow.keras.models import Sequential\n",
    "from tensorflow.keras.layers import Dense"
   ]
  },
  {
   "cell_type": "markdown",
   "metadata": {
    "id": "ZfRt3BZI57ET"
   },
   "source": [
    "We Use the Cumulative Database of Objects of Interest of the Kepler Exoplanet Observatory at https://exoplanetarchive.ipac.caltech.edu/docs/data.html\n",
    "\n",
    "In this notebook we use several classifiers in order to reproduce de disposition of the observed object among the classes CONFIRMED and FALSE POSITIVE."
   ]
  },
  {
   "cell_type": "code",
   "execution_count": 2,
   "metadata": {
    "executionInfo": {
     "elapsed": 1946,
     "status": "ok",
     "timestamp": 1688597503031,
     "user": {
      "displayName": "Carlos Alberto Vaquera Araujo",
      "userId": "08698010318067463324"
     },
     "user_tz": 360
    },
    "id": "FYH0KD79TwzO"
   },
   "outputs": [],
   "source": [
    "# Load the exoplanet database\n",
    "data_url = \"https://exoplanetarchive.ipac.caltech.edu/cgi-bin/nstedAPI/nph-nstedAPI?table=cumulative&select=kepid,kepoi_name,koi_disposition,koi_period,koi_time0bk,koi_impact,koi_duration,koi_depth,koi_prad,koi_sma,koi_teq,koi_insol,koi_model_snr,koi_steff,koi_slogg,koi_srad,koi_smass,ra,dec,koi_kepmag&format=csv\"\n",
    "df_kepler = pd.read_csv(data_url)"
   ]
  },
  {
   "cell_type": "markdown",
   "metadata": {
    "id": "hPXh6MquWHNW"
   },
   "source": [
    "Drop All NaNs"
   ]
  },
  {
   "cell_type": "code",
   "execution_count": 3,
   "metadata": {
    "colab": {
     "base_uri": "https://localhost:8080/",
     "height": 488
    },
    "executionInfo": {
     "elapsed": 3,
     "status": "ok",
     "timestamp": 1688597503031,
     "user": {
      "displayName": "Carlos Alberto Vaquera Araujo",
      "userId": "08698010318067463324"
     },
     "user_tz": 360
    },
    "id": "YdPIFDsxWFgN",
    "outputId": "67e34413-02af-433a-ebcd-584114a8c983"
   },
   "outputs": [
    {
     "data": {
      "text/html": [
       "\n",
       "  <div id=\"df-aa4ad13b-1d0e-4b29-acaf-79bcb4321c7a\">\n",
       "    <div class=\"colab-df-container\">\n",
       "      <div>\n",
       "<style scoped>\n",
       "    .dataframe tbody tr th:only-of-type {\n",
       "        vertical-align: middle;\n",
       "    }\n",
       "\n",
       "    .dataframe tbody tr th {\n",
       "        vertical-align: top;\n",
       "    }\n",
       "\n",
       "    .dataframe thead th {\n",
       "        text-align: right;\n",
       "    }\n",
       "</style>\n",
       "<table border=\"1\" class=\"dataframe\">\n",
       "  <thead>\n",
       "    <tr style=\"text-align: right;\">\n",
       "      <th></th>\n",
       "      <th>kepid</th>\n",
       "      <th>kepoi_name</th>\n",
       "      <th>koi_disposition</th>\n",
       "      <th>koi_period</th>\n",
       "      <th>koi_time0bk</th>\n",
       "      <th>koi_impact</th>\n",
       "      <th>koi_duration</th>\n",
       "      <th>koi_depth</th>\n",
       "      <th>koi_prad</th>\n",
       "      <th>koi_sma</th>\n",
       "      <th>koi_teq</th>\n",
       "      <th>koi_insol</th>\n",
       "      <th>koi_model_snr</th>\n",
       "      <th>koi_steff</th>\n",
       "      <th>koi_slogg</th>\n",
       "      <th>koi_srad</th>\n",
       "      <th>koi_smass</th>\n",
       "      <th>ra</th>\n",
       "      <th>dec</th>\n",
       "      <th>koi_kepmag</th>\n",
       "    </tr>\n",
       "  </thead>\n",
       "  <tbody>\n",
       "    <tr>\n",
       "      <th>0</th>\n",
       "      <td>10797460</td>\n",
       "      <td>K00752.01</td>\n",
       "      <td>CONFIRMED</td>\n",
       "      <td>9.488036</td>\n",
       "      <td>170.538750</td>\n",
       "      <td>0.146</td>\n",
       "      <td>2.95750</td>\n",
       "      <td>615.8</td>\n",
       "      <td>2.26</td>\n",
       "      <td>0.0853</td>\n",
       "      <td>793.0</td>\n",
       "      <td>93.59</td>\n",
       "      <td>35.8</td>\n",
       "      <td>5455.0</td>\n",
       "      <td>4.467</td>\n",
       "      <td>0.927</td>\n",
       "      <td>0.919</td>\n",
       "      <td>291.93423</td>\n",
       "      <td>48.141651</td>\n",
       "      <td>15.347</td>\n",
       "    </tr>\n",
       "    <tr>\n",
       "      <th>1</th>\n",
       "      <td>10797460</td>\n",
       "      <td>K00752.02</td>\n",
       "      <td>CONFIRMED</td>\n",
       "      <td>54.418383</td>\n",
       "      <td>162.513840</td>\n",
       "      <td>0.586</td>\n",
       "      <td>4.50700</td>\n",
       "      <td>874.8</td>\n",
       "      <td>2.83</td>\n",
       "      <td>0.2734</td>\n",
       "      <td>443.0</td>\n",
       "      <td>9.11</td>\n",
       "      <td>25.8</td>\n",
       "      <td>5455.0</td>\n",
       "      <td>4.467</td>\n",
       "      <td>0.927</td>\n",
       "      <td>0.919</td>\n",
       "      <td>291.93423</td>\n",
       "      <td>48.141651</td>\n",
       "      <td>15.347</td>\n",
       "    </tr>\n",
       "    <tr>\n",
       "      <th>2</th>\n",
       "      <td>10811496</td>\n",
       "      <td>K00753.01</td>\n",
       "      <td>CANDIDATE</td>\n",
       "      <td>19.899140</td>\n",
       "      <td>175.850252</td>\n",
       "      <td>0.969</td>\n",
       "      <td>1.78220</td>\n",
       "      <td>10829.0</td>\n",
       "      <td>14.60</td>\n",
       "      <td>0.1419</td>\n",
       "      <td>638.0</td>\n",
       "      <td>39.30</td>\n",
       "      <td>76.3</td>\n",
       "      <td>5853.0</td>\n",
       "      <td>4.544</td>\n",
       "      <td>0.868</td>\n",
       "      <td>0.961</td>\n",
       "      <td>297.00482</td>\n",
       "      <td>48.134129</td>\n",
       "      <td>15.436</td>\n",
       "    </tr>\n",
       "    <tr>\n",
       "      <th>3</th>\n",
       "      <td>10848459</td>\n",
       "      <td>K00754.01</td>\n",
       "      <td>FALSE POSITIVE</td>\n",
       "      <td>1.736952</td>\n",
       "      <td>170.307565</td>\n",
       "      <td>1.276</td>\n",
       "      <td>2.40641</td>\n",
       "      <td>8079.2</td>\n",
       "      <td>33.46</td>\n",
       "      <td>0.0267</td>\n",
       "      <td>1395.0</td>\n",
       "      <td>891.96</td>\n",
       "      <td>505.6</td>\n",
       "      <td>5805.0</td>\n",
       "      <td>4.564</td>\n",
       "      <td>0.791</td>\n",
       "      <td>0.836</td>\n",
       "      <td>285.53461</td>\n",
       "      <td>48.285210</td>\n",
       "      <td>15.597</td>\n",
       "    </tr>\n",
       "    <tr>\n",
       "      <th>4</th>\n",
       "      <td>10854555</td>\n",
       "      <td>K00755.01</td>\n",
       "      <td>CONFIRMED</td>\n",
       "      <td>2.525592</td>\n",
       "      <td>171.595550</td>\n",
       "      <td>0.701</td>\n",
       "      <td>1.65450</td>\n",
       "      <td>603.3</td>\n",
       "      <td>2.75</td>\n",
       "      <td>0.0374</td>\n",
       "      <td>1406.0</td>\n",
       "      <td>926.16</td>\n",
       "      <td>40.9</td>\n",
       "      <td>6031.0</td>\n",
       "      <td>4.438</td>\n",
       "      <td>1.046</td>\n",
       "      <td>1.095</td>\n",
       "      <td>288.75488</td>\n",
       "      <td>48.226200</td>\n",
       "      <td>15.509</td>\n",
       "    </tr>\n",
       "    <tr>\n",
       "      <th>...</th>\n",
       "      <td>...</td>\n",
       "      <td>...</td>\n",
       "      <td>...</td>\n",
       "      <td>...</td>\n",
       "      <td>...</td>\n",
       "      <td>...</td>\n",
       "      <td>...</td>\n",
       "      <td>...</td>\n",
       "      <td>...</td>\n",
       "      <td>...</td>\n",
       "      <td>...</td>\n",
       "      <td>...</td>\n",
       "      <td>...</td>\n",
       "      <td>...</td>\n",
       "      <td>...</td>\n",
       "      <td>...</td>\n",
       "      <td>...</td>\n",
       "      <td>...</td>\n",
       "      <td>...</td>\n",
       "      <td>...</td>\n",
       "    </tr>\n",
       "    <tr>\n",
       "      <th>9195</th>\n",
       "      <td>10090151</td>\n",
       "      <td>K07985.01</td>\n",
       "      <td>FALSE POSITIVE</td>\n",
       "      <td>0.527699</td>\n",
       "      <td>131.705093</td>\n",
       "      <td>1.252</td>\n",
       "      <td>3.22210</td>\n",
       "      <td>1579.2</td>\n",
       "      <td>29.35</td>\n",
       "      <td>0.0128</td>\n",
       "      <td>2088.0</td>\n",
       "      <td>4500.53</td>\n",
       "      <td>453.3</td>\n",
       "      <td>5638.0</td>\n",
       "      <td>4.529</td>\n",
       "      <td>0.903</td>\n",
       "      <td>1.005</td>\n",
       "      <td>297.18875</td>\n",
       "      <td>47.093819</td>\n",
       "      <td>14.082</td>\n",
       "    </tr>\n",
       "    <tr>\n",
       "      <th>9196</th>\n",
       "      <td>10128825</td>\n",
       "      <td>K07986.01</td>\n",
       "      <td>CANDIDATE</td>\n",
       "      <td>1.739849</td>\n",
       "      <td>133.001270</td>\n",
       "      <td>0.043</td>\n",
       "      <td>3.11400</td>\n",
       "      <td>48.5</td>\n",
       "      <td>0.72</td>\n",
       "      <td>0.0290</td>\n",
       "      <td>1608.0</td>\n",
       "      <td>1585.81</td>\n",
       "      <td>10.6</td>\n",
       "      <td>6119.0</td>\n",
       "      <td>4.444</td>\n",
       "      <td>1.031</td>\n",
       "      <td>1.075</td>\n",
       "      <td>286.50937</td>\n",
       "      <td>47.163219</td>\n",
       "      <td>14.757</td>\n",
       "    </tr>\n",
       "    <tr>\n",
       "      <th>9197</th>\n",
       "      <td>10147276</td>\n",
       "      <td>K07987.01</td>\n",
       "      <td>FALSE POSITIVE</td>\n",
       "      <td>0.681402</td>\n",
       "      <td>132.181750</td>\n",
       "      <td>0.147</td>\n",
       "      <td>0.86500</td>\n",
       "      <td>103.6</td>\n",
       "      <td>1.07</td>\n",
       "      <td>0.0157</td>\n",
       "      <td>2218.0</td>\n",
       "      <td>5713.41</td>\n",
       "      <td>12.3</td>\n",
       "      <td>6173.0</td>\n",
       "      <td>4.447</td>\n",
       "      <td>1.041</td>\n",
       "      <td>1.104</td>\n",
       "      <td>294.16489</td>\n",
       "      <td>47.176281</td>\n",
       "      <td>15.385</td>\n",
       "    </tr>\n",
       "    <tr>\n",
       "      <th>9198</th>\n",
       "      <td>10155286</td>\n",
       "      <td>K07988.01</td>\n",
       "      <td>CANDIDATE</td>\n",
       "      <td>333.486169</td>\n",
       "      <td>153.615010</td>\n",
       "      <td>0.214</td>\n",
       "      <td>3.19900</td>\n",
       "      <td>639.1</td>\n",
       "      <td>19.30</td>\n",
       "      <td>1.2233</td>\n",
       "      <td>557.0</td>\n",
       "      <td>22.68</td>\n",
       "      <td>14.0</td>\n",
       "      <td>4989.0</td>\n",
       "      <td>2.992</td>\n",
       "      <td>7.824</td>\n",
       "      <td>2.190</td>\n",
       "      <td>296.76288</td>\n",
       "      <td>47.145142</td>\n",
       "      <td>10.998</td>\n",
       "    </tr>\n",
       "    <tr>\n",
       "      <th>9199</th>\n",
       "      <td>10156110</td>\n",
       "      <td>K07989.01</td>\n",
       "      <td>FALSE POSITIVE</td>\n",
       "      <td>4.856035</td>\n",
       "      <td>135.993300</td>\n",
       "      <td>0.134</td>\n",
       "      <td>3.07800</td>\n",
       "      <td>76.7</td>\n",
       "      <td>1.05</td>\n",
       "      <td>0.0606</td>\n",
       "      <td>1266.0</td>\n",
       "      <td>607.42</td>\n",
       "      <td>8.2</td>\n",
       "      <td>6469.0</td>\n",
       "      <td>4.385</td>\n",
       "      <td>1.193</td>\n",
       "      <td>1.260</td>\n",
       "      <td>297.00977</td>\n",
       "      <td>47.121021</td>\n",
       "      <td>14.826</td>\n",
       "    </tr>\n",
       "  </tbody>\n",
       "</table>\n",
       "<p>9200 rows × 20 columns</p>\n",
       "</div>\n",
       "      <button class=\"colab-df-convert\" onclick=\"convertToInteractive('df-aa4ad13b-1d0e-4b29-acaf-79bcb4321c7a')\"\n",
       "              title=\"Convert this dataframe to an interactive table.\"\n",
       "              style=\"display:none;\">\n",
       "        \n",
       "  <svg xmlns=\"http://www.w3.org/2000/svg\" height=\"24px\"viewBox=\"0 0 24 24\"\n",
       "       width=\"24px\">\n",
       "    <path d=\"M0 0h24v24H0V0z\" fill=\"none\"/>\n",
       "    <path d=\"M18.56 5.44l.94 2.06.94-2.06 2.06-.94-2.06-.94-.94-2.06-.94 2.06-2.06.94zm-11 1L8.5 8.5l.94-2.06 2.06-.94-2.06-.94L8.5 2.5l-.94 2.06-2.06.94zm10 10l.94 2.06.94-2.06 2.06-.94-2.06-.94-.94-2.06-.94 2.06-2.06.94z\"/><path d=\"M17.41 7.96l-1.37-1.37c-.4-.4-.92-.59-1.43-.59-.52 0-1.04.2-1.43.59L10.3 9.45l-7.72 7.72c-.78.78-.78 2.05 0 2.83L4 21.41c.39.39.9.59 1.41.59.51 0 1.02-.2 1.41-.59l7.78-7.78 2.81-2.81c.8-.78.8-2.07 0-2.86zM5.41 20L4 18.59l7.72-7.72 1.47 1.35L5.41 20z\"/>\n",
       "  </svg>\n",
       "      </button>\n",
       "      \n",
       "  <style>\n",
       "    .colab-df-container {\n",
       "      display:flex;\n",
       "      flex-wrap:wrap;\n",
       "      gap: 12px;\n",
       "    }\n",
       "\n",
       "    .colab-df-convert {\n",
       "      background-color: #E8F0FE;\n",
       "      border: none;\n",
       "      border-radius: 50%;\n",
       "      cursor: pointer;\n",
       "      display: none;\n",
       "      fill: #1967D2;\n",
       "      height: 32px;\n",
       "      padding: 0 0 0 0;\n",
       "      width: 32px;\n",
       "    }\n",
       "\n",
       "    .colab-df-convert:hover {\n",
       "      background-color: #E2EBFA;\n",
       "      box-shadow: 0px 1px 2px rgba(60, 64, 67, 0.3), 0px 1px 3px 1px rgba(60, 64, 67, 0.15);\n",
       "      fill: #174EA6;\n",
       "    }\n",
       "\n",
       "    [theme=dark] .colab-df-convert {\n",
       "      background-color: #3B4455;\n",
       "      fill: #D2E3FC;\n",
       "    }\n",
       "\n",
       "    [theme=dark] .colab-df-convert:hover {\n",
       "      background-color: #434B5C;\n",
       "      box-shadow: 0px 1px 3px 1px rgba(0, 0, 0, 0.15);\n",
       "      filter: drop-shadow(0px 1px 2px rgba(0, 0, 0, 0.3));\n",
       "      fill: #FFFFFF;\n",
       "    }\n",
       "  </style>\n",
       "\n",
       "      <script>\n",
       "        const buttonEl =\n",
       "          document.querySelector('#df-aa4ad13b-1d0e-4b29-acaf-79bcb4321c7a button.colab-df-convert');\n",
       "        buttonEl.style.display =\n",
       "          google.colab.kernel.accessAllowed ? 'block' : 'none';\n",
       "\n",
       "        async function convertToInteractive(key) {\n",
       "          const element = document.querySelector('#df-aa4ad13b-1d0e-4b29-acaf-79bcb4321c7a');\n",
       "          const dataTable =\n",
       "            await google.colab.kernel.invokeFunction('convertToInteractive',\n",
       "                                                     [key], {});\n",
       "          if (!dataTable) return;\n",
       "\n",
       "          const docLinkHtml = 'Like what you see? Visit the ' +\n",
       "            '<a target=\"_blank\" href=https://colab.research.google.com/notebooks/data_table.ipynb>data table notebook</a>'\n",
       "            + ' to learn more about interactive tables.';\n",
       "          element.innerHTML = '';\n",
       "          dataTable['output_type'] = 'display_data';\n",
       "          await google.colab.output.renderOutput(dataTable, element);\n",
       "          const docLink = document.createElement('div');\n",
       "          docLink.innerHTML = docLinkHtml;\n",
       "          element.appendChild(docLink);\n",
       "        }\n",
       "      </script>\n",
       "    </div>\n",
       "  </div>\n",
       "  "
      ],
      "text/plain": [
       "         kepid kepoi_name koi_disposition  koi_period  koi_time0bk  \\\n",
       "0     10797460  K00752.01       CONFIRMED    9.488036   170.538750   \n",
       "1     10797460  K00752.02       CONFIRMED   54.418383   162.513840   \n",
       "2     10811496  K00753.01       CANDIDATE   19.899140   175.850252   \n",
       "3     10848459  K00754.01  FALSE POSITIVE    1.736952   170.307565   \n",
       "4     10854555  K00755.01       CONFIRMED    2.525592   171.595550   \n",
       "...        ...        ...             ...         ...          ...   \n",
       "9195  10090151  K07985.01  FALSE POSITIVE    0.527699   131.705093   \n",
       "9196  10128825  K07986.01       CANDIDATE    1.739849   133.001270   \n",
       "9197  10147276  K07987.01  FALSE POSITIVE    0.681402   132.181750   \n",
       "9198  10155286  K07988.01       CANDIDATE  333.486169   153.615010   \n",
       "9199  10156110  K07989.01  FALSE POSITIVE    4.856035   135.993300   \n",
       "\n",
       "      koi_impact  koi_duration  koi_depth  koi_prad  koi_sma  koi_teq  \\\n",
       "0          0.146       2.95750      615.8      2.26   0.0853    793.0   \n",
       "1          0.586       4.50700      874.8      2.83   0.2734    443.0   \n",
       "2          0.969       1.78220    10829.0     14.60   0.1419    638.0   \n",
       "3          1.276       2.40641     8079.2     33.46   0.0267   1395.0   \n",
       "4          0.701       1.65450      603.3      2.75   0.0374   1406.0   \n",
       "...          ...           ...        ...       ...      ...      ...   \n",
       "9195       1.252       3.22210     1579.2     29.35   0.0128   2088.0   \n",
       "9196       0.043       3.11400       48.5      0.72   0.0290   1608.0   \n",
       "9197       0.147       0.86500      103.6      1.07   0.0157   2218.0   \n",
       "9198       0.214       3.19900      639.1     19.30   1.2233    557.0   \n",
       "9199       0.134       3.07800       76.7      1.05   0.0606   1266.0   \n",
       "\n",
       "      koi_insol  koi_model_snr  koi_steff  koi_slogg  koi_srad  koi_smass  \\\n",
       "0         93.59           35.8     5455.0      4.467     0.927      0.919   \n",
       "1          9.11           25.8     5455.0      4.467     0.927      0.919   \n",
       "2         39.30           76.3     5853.0      4.544     0.868      0.961   \n",
       "3        891.96          505.6     5805.0      4.564     0.791      0.836   \n",
       "4        926.16           40.9     6031.0      4.438     1.046      1.095   \n",
       "...         ...            ...        ...        ...       ...        ...   \n",
       "9195    4500.53          453.3     5638.0      4.529     0.903      1.005   \n",
       "9196    1585.81           10.6     6119.0      4.444     1.031      1.075   \n",
       "9197    5713.41           12.3     6173.0      4.447     1.041      1.104   \n",
       "9198      22.68           14.0     4989.0      2.992     7.824      2.190   \n",
       "9199     607.42            8.2     6469.0      4.385     1.193      1.260   \n",
       "\n",
       "             ra        dec  koi_kepmag  \n",
       "0     291.93423  48.141651      15.347  \n",
       "1     291.93423  48.141651      15.347  \n",
       "2     297.00482  48.134129      15.436  \n",
       "3     285.53461  48.285210      15.597  \n",
       "4     288.75488  48.226200      15.509  \n",
       "...         ...        ...         ...  \n",
       "9195  297.18875  47.093819      14.082  \n",
       "9196  286.50937  47.163219      14.757  \n",
       "9197  294.16489  47.176281      15.385  \n",
       "9198  296.76288  47.145142      10.998  \n",
       "9199  297.00977  47.121021      14.826  \n",
       "\n",
       "[9200 rows x 20 columns]"
      ]
     },
     "execution_count": 3,
     "metadata": {},
     "output_type": "execute_result"
    }
   ],
   "source": [
    "df_kepler_clean=df_kepler.dropna().reset_index(drop=True)\n",
    "df_kepler_clean"
   ]
  },
  {
   "cell_type": "markdown",
   "metadata": {
    "id": "wGkSwiJHquoi"
   },
   "source": [
    "We keep only physical data of the observed object"
   ]
  },
  {
   "cell_type": "code",
   "execution_count": 4,
   "metadata": {
    "executionInfo": {
     "elapsed": 2,
     "status": "ok",
     "timestamp": 1688597503242,
     "user": {
      "displayName": "Carlos Alberto Vaquera Araujo",
      "userId": "08698010318067463324"
     },
     "user_tz": 360
    },
    "id": "kHsI4zcQp4rC"
   },
   "outputs": [],
   "source": [
    "df=df_kepler_clean.drop(['kepid', 'kepoi_name'], axis=1)"
   ]
  },
  {
   "cell_type": "markdown",
   "metadata": {
    "id": "PcJKluZHq0_i"
   },
   "source": [
    "We take only information about the classes CONFIRMED and FALSE POSITIVE for the binary classification in order to obtain a model that can be used on the CANDIDATE class."
   ]
  },
  {
   "cell_type": "code",
   "execution_count": 8,
   "metadata": {
    "executionInfo": {
     "elapsed": 184,
     "status": "ok",
     "timestamp": 1688597533510,
     "user": {
      "displayName": "Carlos Alberto Vaquera Araujo",
      "userId": "08698010318067463324"
     },
     "user_tz": 360
    },
    "id": "0ElTZd4uqn4l"
   },
   "outputs": [],
   "source": [
    "df=df[df['koi_disposition']!='CANDIDATE'].reset_index(drop=True)"
   ]
  },
  {
   "cell_type": "code",
   "execution_count": 9,
   "metadata": {
    "colab": {
     "base_uri": "https://localhost:8080/"
    },
    "executionInfo": {
     "elapsed": 198,
     "status": "ok",
     "timestamp": 1688597534778,
     "user": {
      "displayName": "Carlos Alberto Vaquera Araujo",
      "userId": "08698010318067463324"
     },
     "user_tz": 360
    },
    "id": "vSkv6mokrRMz",
    "outputId": "c9180540-0eab-4e3c-8343-479c74ea1966"
   },
   "outputs": [
    {
     "data": {
      "text/plain": [
       "array([0, 1])"
      ]
     },
     "execution_count": 9,
     "metadata": {},
     "output_type": "execute_result"
    }
   ],
   "source": [
    "df['koi_disposition'].unique()"
   ]
  },
  {
   "cell_type": "markdown",
   "metadata": {
    "id": "HDBzBQFArhaM"
   },
   "source": [
    "Encode the target variable"
   ]
  },
  {
   "cell_type": "code",
   "execution_count": 11,
   "metadata": {
    "executionInfo": {
     "elapsed": 209,
     "status": "ok",
     "timestamp": 1688597551835,
     "user": {
      "displayName": "Carlos Alberto Vaquera Araujo",
      "userId": "08698010318067463324"
     },
     "user_tz": 360
    },
    "id": "vZucBirFrR5r"
   },
   "outputs": [],
   "source": [
    "le=LabelEncoder()\n",
    "df['koi_disposition']=le.fit_transform(df['koi_disposition'])"
   ]
  },
  {
   "cell_type": "markdown",
   "metadata": {
    "id": "7v4LZ6jwr4zj"
   },
   "source": [
    "Identify the Independent and dependent variables and split into train and test sets"
   ]
  },
  {
   "cell_type": "code",
   "execution_count": 12,
   "metadata": {
    "executionInfo": {
     "elapsed": 213,
     "status": "ok",
     "timestamp": 1688597562927,
     "user": {
      "displayName": "Carlos Alberto Vaquera Araujo",
      "userId": "08698010318067463324"
     },
     "user_tz": 360
    },
    "id": "uohdbO4irsR1"
   },
   "outputs": [],
   "source": [
    "X=df.drop('koi_disposition',axis=1).values\n",
    "y=df['koi_disposition'].values\n",
    "X_train,X_test,y_train,y_test=train_test_split(X,y,test_size=0.3)"
   ]
  },
  {
   "cell_type": "code",
   "execution_count": 13,
   "metadata": {
    "executionInfo": {
     "elapsed": 187,
     "status": "ok",
     "timestamp": 1688597583755,
     "user": {
      "displayName": "Carlos Alberto Vaquera Araujo",
      "userId": "08698010318067463324"
     },
     "user_tz": 360
    },
    "id": "YL6E2V9is8ic"
   },
   "outputs": [],
   "source": [
    "scaler=StandardScaler()\n",
    "X_train_scaled_1=scaler.fit_transform(X_train)\n",
    "X_test_scaled_1=scaler.transform(X_test)"
   ]
  },
  {
   "cell_type": "markdown",
   "metadata": {
    "id": "-wa9BFN7uG1G"
   },
   "source": [
    "## Logistic Regression"
   ]
  },
  {
   "cell_type": "code",
   "execution_count": 14,
   "metadata": {
    "colab": {
     "base_uri": "https://localhost:8080/",
     "height": 75
    },
    "executionInfo": {
     "elapsed": 192,
     "status": "ok",
     "timestamp": 1688597586178,
     "user": {
      "displayName": "Carlos Alberto Vaquera Araujo",
      "userId": "08698010318067463324"
     },
     "user_tz": 360
    },
    "id": "vSl-kiuDt9EF",
    "outputId": "4fd48e17-dc50-41f9-ab43-fa7de0c5b630"
   },
   "outputs": [
    {
     "data": {
      "text/html": [
       "<style>#sk-container-id-1 {color: black;background-color: white;}#sk-container-id-1 pre{padding: 0;}#sk-container-id-1 div.sk-toggleable {background-color: white;}#sk-container-id-1 label.sk-toggleable__label {cursor: pointer;display: block;width: 100%;margin-bottom: 0;padding: 0.3em;box-sizing: border-box;text-align: center;}#sk-container-id-1 label.sk-toggleable__label-arrow:before {content: \"▸\";float: left;margin-right: 0.25em;color: #696969;}#sk-container-id-1 label.sk-toggleable__label-arrow:hover:before {color: black;}#sk-container-id-1 div.sk-estimator:hover label.sk-toggleable__label-arrow:before {color: black;}#sk-container-id-1 div.sk-toggleable__content {max-height: 0;max-width: 0;overflow: hidden;text-align: left;background-color: #f0f8ff;}#sk-container-id-1 div.sk-toggleable__content pre {margin: 0.2em;color: black;border-radius: 0.25em;background-color: #f0f8ff;}#sk-container-id-1 input.sk-toggleable__control:checked~div.sk-toggleable__content {max-height: 200px;max-width: 100%;overflow: auto;}#sk-container-id-1 input.sk-toggleable__control:checked~label.sk-toggleable__label-arrow:before {content: \"▾\";}#sk-container-id-1 div.sk-estimator input.sk-toggleable__control:checked~label.sk-toggleable__label {background-color: #d4ebff;}#sk-container-id-1 div.sk-label input.sk-toggleable__control:checked~label.sk-toggleable__label {background-color: #d4ebff;}#sk-container-id-1 input.sk-hidden--visually {border: 0;clip: rect(1px 1px 1px 1px);clip: rect(1px, 1px, 1px, 1px);height: 1px;margin: -1px;overflow: hidden;padding: 0;position: absolute;width: 1px;}#sk-container-id-1 div.sk-estimator {font-family: monospace;background-color: #f0f8ff;border: 1px dotted black;border-radius: 0.25em;box-sizing: border-box;margin-bottom: 0.5em;}#sk-container-id-1 div.sk-estimator:hover {background-color: #d4ebff;}#sk-container-id-1 div.sk-parallel-item::after {content: \"\";width: 100%;border-bottom: 1px solid gray;flex-grow: 1;}#sk-container-id-1 div.sk-label:hover label.sk-toggleable__label {background-color: #d4ebff;}#sk-container-id-1 div.sk-serial::before {content: \"\";position: absolute;border-left: 1px solid gray;box-sizing: border-box;top: 0;bottom: 0;left: 50%;z-index: 0;}#sk-container-id-1 div.sk-serial {display: flex;flex-direction: column;align-items: center;background-color: white;padding-right: 0.2em;padding-left: 0.2em;position: relative;}#sk-container-id-1 div.sk-item {position: relative;z-index: 1;}#sk-container-id-1 div.sk-parallel {display: flex;align-items: stretch;justify-content: center;background-color: white;position: relative;}#sk-container-id-1 div.sk-item::before, #sk-container-id-1 div.sk-parallel-item::before {content: \"\";position: absolute;border-left: 1px solid gray;box-sizing: border-box;top: 0;bottom: 0;left: 50%;z-index: -1;}#sk-container-id-1 div.sk-parallel-item {display: flex;flex-direction: column;z-index: 1;position: relative;background-color: white;}#sk-container-id-1 div.sk-parallel-item:first-child::after {align-self: flex-end;width: 50%;}#sk-container-id-1 div.sk-parallel-item:last-child::after {align-self: flex-start;width: 50%;}#sk-container-id-1 div.sk-parallel-item:only-child::after {width: 0;}#sk-container-id-1 div.sk-dashed-wrapped {border: 1px dashed gray;margin: 0 0.4em 0.5em 0.4em;box-sizing: border-box;padding-bottom: 0.4em;background-color: white;}#sk-container-id-1 div.sk-label label {font-family: monospace;font-weight: bold;display: inline-block;line-height: 1.2em;}#sk-container-id-1 div.sk-label-container {text-align: center;}#sk-container-id-1 div.sk-container {/* jupyter's `normalize.less` sets `[hidden] { display: none; }` but bootstrap.min.css set `[hidden] { display: none !important; }` so we also need the `!important` here to be able to override the default hidden behavior on the sphinx rendered scikit-learn.org. See: https://github.com/scikit-learn/scikit-learn/issues/21755 */display: inline-block !important;position: relative;}#sk-container-id-1 div.sk-text-repr-fallback {display: none;}</style><div id=\"sk-container-id-1\" class=\"sk-top-container\"><div class=\"sk-text-repr-fallback\"><pre>LogisticRegression()</pre><b>In a Jupyter environment, please rerun this cell to show the HTML representation or trust the notebook. <br />On GitHub, the HTML representation is unable to render, please try loading this page with nbviewer.org.</b></div><div class=\"sk-container\" hidden><div class=\"sk-item\"><div class=\"sk-estimator sk-toggleable\"><input class=\"sk-toggleable__control sk-hidden--visually\" id=\"sk-estimator-id-1\" type=\"checkbox\" checked><label for=\"sk-estimator-id-1\" class=\"sk-toggleable__label sk-toggleable__label-arrow\">LogisticRegression</label><div class=\"sk-toggleable__content\"><pre>LogisticRegression()</pre></div></div></div></div></div>"
      ],
      "text/plain": [
       "LogisticRegression()"
      ]
     },
     "execution_count": 14,
     "metadata": {},
     "output_type": "execute_result"
    }
   ],
   "source": [
    "lr=LogisticRegression()\n",
    "lr.fit(X_train_scaled_1,y_train)"
   ]
  },
  {
   "cell_type": "markdown",
   "metadata": {
    "id": "_2CwrU51wNET"
   },
   "source": [
    "Crossed Validation"
   ]
  },
  {
   "cell_type": "code",
   "execution_count": 15,
   "metadata": {
    "colab": {
     "base_uri": "https://localhost:8080/"
    },
    "executionInfo": {
     "elapsed": 840,
     "status": "ok",
     "timestamp": 1688597590231,
     "user": {
      "displayName": "Carlos Alberto Vaquera Araujo",
      "userId": "08698010318067463324"
     },
     "user_tz": 360
    },
    "id": "teZzONcKu0hM",
    "outputId": "c2abc863-e30a-4e0f-e3b8-1d8323e8439e"
   },
   "outputs": [
    {
     "name": "stdout",
     "output_type": "stream",
     "text": [
      "Logistic Regression Score = 0.8483595655487803 +/- 0.0035708040417453944\n"
     ]
    }
   ],
   "source": [
    "scores_1=cross_val_score(lr,X_train_scaled_1,y_train)\n",
    "print(f'Logistic Regression Score = {scores_1.mean()} +/- {scores_1.std()}')"
   ]
  },
  {
   "cell_type": "code",
   "execution_count": 16,
   "metadata": {
    "executionInfo": {
     "elapsed": 198,
     "status": "ok",
     "timestamp": 1688597591242,
     "user": {
      "displayName": "Carlos Alberto Vaquera Araujo",
      "userId": "08698010318067463324"
     },
     "user_tz": 360
    },
    "id": "_qQtX9_aMZdN"
   },
   "outputs": [],
   "source": [
    "y_predict_1=lr.predict(X_test_scaled_1)"
   ]
  },
  {
   "cell_type": "markdown",
   "metadata": {
    "id": "chJQu4CAF63o"
   },
   "source": [
    "Confusion Matrix"
   ]
  },
  {
   "cell_type": "code",
   "execution_count": 17,
   "metadata": {
    "colab": {
     "base_uri": "https://localhost:8080/",
     "height": 328
    },
    "executionInfo": {
     "elapsed": 525,
     "status": "ok",
     "timestamp": 1688597594873,
     "user": {
      "displayName": "Carlos Alberto Vaquera Araujo",
      "userId": "08698010318067463324"
     },
     "user_tz": 360
    },
    "id": "ciey7kqx0B9x",
    "outputId": "45e28c14-55f6-4108-a875-37a70e050955"
   },
   "outputs": [
    {
     "data": {
      "image/png": "[encoded data removed]",
      "text/plain": [
       "<Figure size 300x300 with 1 Axes>"
      ]
     },
     "metadata": {},
     "output_type": "display_data"
    }
   ],
   "source": [
    "class_names=[0,0]\n",
    "fig,ax=plt.subplots(figsize=(3,3))\n",
    "tick_marks=(np.arange(len(class_names)))\n",
    "plt.xticks(tick_marks,class_names)\n",
    "plt.yticks(tick_marks,class_names)\n",
    "sns.heatmap(pd.DataFrame(confusion_matrix(y_test,y_predict_1)),annot=True,\n",
    "            cmap='Blues',fmt='g',cbar=False,\n",
    "            annot_kws={'size':20})\n",
    "ax.xaxis.set_label_position('top')\n",
    "plt.tight_layout()\n",
    "plt.ylabel('True Disposition', fontsize=15,y=0.5)\n",
    "plt.xlabel('Model Prediction', fontsize=15)\n",
    "plt.show()"
   ]
  },
  {
   "cell_type": "markdown",
   "metadata": {
    "id": "AQUzrGQVwYoC"
   },
   "source": [
    "Metrics"
   ]
  },
  {
   "cell_type": "code",
   "execution_count": 18,
   "metadata": {
    "colab": {
     "base_uri": "https://localhost:8080/"
    },
    "executionInfo": {
     "elapsed": 180,
     "status": "ok",
     "timestamp": 1688597597356,
     "user": {
      "displayName": "Carlos Alberto Vaquera Araujo",
      "userId": "08698010318067463324"
     },
     "user_tz": 360
    },
    "id": "r38RSkB6xiNG",
    "outputId": "d37627b2-34e8-4048-d297-075f61b9e609"
   },
   "outputs": [
    {
     "name": "stdout",
     "output_type": "stream",
     "text": [
      "Precision: 0.9068702290076336\n",
      "Accuracy: 0.8387978142076503\n",
      "Recall: 0.8366197183098592\n"
     ]
    }
   ],
   "source": [
    "print(f'Precision: {precision_score(y_test,y_predict_1)}')\n",
    "print(f'Accuracy: {accuracy_score(y_test,y_predict_1)}')\n",
    "print(f'Recall: {recall_score(y_test,y_predict_1)}')"
   ]
  },
  {
   "cell_type": "markdown",
   "metadata": {
    "id": "LZa7lBhZU8nh"
   },
   "source": [
    "## Random Forest"
   ]
  },
  {
   "cell_type": "code",
   "execution_count": 69,
   "metadata": {
    "executionInfo": {
     "elapsed": 206,
     "status": "ok",
     "timestamp": 1688598611411,
     "user": {
      "displayName": "Carlos Alberto Vaquera Araujo",
      "userId": "08698010318067463324"
     },
     "user_tz": 360
    },
    "id": "TuUxrEgXU8ns"
   },
   "outputs": [],
   "source": [
    "from sklearn.ensemble import RandomForestClassifier"
   ]
  },
  {
   "cell_type": "code",
   "execution_count": 70,
   "metadata": {
    "colab": {
     "base_uri": "https://localhost:8080/",
     "height": 75
    },
    "executionInfo": {
     "elapsed": 21639,
     "status": "ok",
     "timestamp": 1688598633736,
     "user": {
      "displayName": "Carlos Alberto Vaquera Araujo",
      "userId": "08698010318067463324"
     },
     "user_tz": 360
    },
    "id": "drxdLSIyU8ns",
    "outputId": "65febcdc-6a13-4a09-9f84-a893b5d28ba0"
   },
   "outputs": [
    {
     "data": {
      "text/html": [
       "<style>#sk-container-id-10 {color: black;background-color: white;}#sk-container-id-10 pre{padding: 0;}#sk-container-id-10 div.sk-toggleable {background-color: white;}#sk-container-id-10 label.sk-toggleable__label {cursor: pointer;display: block;width: 100%;margin-bottom: 0;padding: 0.3em;box-sizing: border-box;text-align: center;}#sk-container-id-10 label.sk-toggleable__label-arrow:before {content: \"▸\";float: left;margin-right: 0.25em;color: #696969;}#sk-container-id-10 label.sk-toggleable__label-arrow:hover:before {color: black;}#sk-container-id-10 div.sk-estimator:hover label.sk-toggleable__label-arrow:before {color: black;}#sk-container-id-10 div.sk-toggleable__content {max-height: 0;max-width: 0;overflow: hidden;text-align: left;background-color: #f0f8ff;}#sk-container-id-10 div.sk-toggleable__content pre {margin: 0.2em;color: black;border-radius: 0.25em;background-color: #f0f8ff;}#sk-container-id-10 input.sk-toggleable__control:checked~div.sk-toggleable__content {max-height: 200px;max-width: 100%;overflow: auto;}#sk-container-id-10 input.sk-toggleable__control:checked~label.sk-toggleable__label-arrow:before {content: \"▾\";}#sk-container-id-10 div.sk-estimator input.sk-toggleable__control:checked~label.sk-toggleable__label {background-color: #d4ebff;}#sk-container-id-10 div.sk-label input.sk-toggleable__control:checked~label.sk-toggleable__label {background-color: #d4ebff;}#sk-container-id-10 input.sk-hidden--visually {border: 0;clip: rect(1px 1px 1px 1px);clip: rect(1px, 1px, 1px, 1px);height: 1px;margin: -1px;overflow: hidden;padding: 0;position: absolute;width: 1px;}#sk-container-id-10 div.sk-estimator {font-family: monospace;background-color: #f0f8ff;border: 1px dotted black;border-radius: 0.25em;box-sizing: border-box;margin-bottom: 0.5em;}#sk-container-id-10 div.sk-estimator:hover {background-color: #d4ebff;}#sk-container-id-10 div.sk-parallel-item::after {content: \"\";width: 100%;border-bottom: 1px solid gray;flex-grow: 1;}#sk-container-id-10 div.sk-label:hover label.sk-toggleable__label {background-color: #d4ebff;}#sk-container-id-10 div.sk-serial::before {content: \"\";position: absolute;border-left: 1px solid gray;box-sizing: border-box;top: 0;bottom: 0;left: 50%;z-index: 0;}#sk-container-id-10 div.sk-serial {display: flex;flex-direction: column;align-items: center;background-color: white;padding-right: 0.2em;padding-left: 0.2em;position: relative;}#sk-container-id-10 div.sk-item {position: relative;z-index: 1;}#sk-container-id-10 div.sk-parallel {display: flex;align-items: stretch;justify-content: center;background-color: white;position: relative;}#sk-container-id-10 div.sk-item::before, #sk-container-id-10 div.sk-parallel-item::before {content: \"\";position: absolute;border-left: 1px solid gray;box-sizing: border-box;top: 0;bottom: 0;left: 50%;z-index: -1;}#sk-container-id-10 div.sk-parallel-item {display: flex;flex-direction: column;z-index: 1;position: relative;background-color: white;}#sk-container-id-10 div.sk-parallel-item:first-child::after {align-self: flex-end;width: 50%;}#sk-container-id-10 div.sk-parallel-item:last-child::after {align-self: flex-start;width: 50%;}#sk-container-id-10 div.sk-parallel-item:only-child::after {width: 0;}#sk-container-id-10 div.sk-dashed-wrapped {border: 1px dashed gray;margin: 0 0.4em 0.5em 0.4em;box-sizing: border-box;padding-bottom: 0.4em;background-color: white;}#sk-container-id-10 div.sk-label label {font-family: monospace;font-weight: bold;display: inline-block;line-height: 1.2em;}#sk-container-id-10 div.sk-label-container {text-align: center;}#sk-container-id-10 div.sk-container {/* jupyter's `normalize.less` sets `[hidden] { display: none; }` but bootstrap.min.css set `[hidden] { display: none !important; }` so we also need the `!important` here to be able to override the default hidden behavior on the sphinx rendered scikit-learn.org. See: https://github.com/scikit-learn/scikit-learn/issues/21755 */display: inline-block !important;position: relative;}#sk-container-id-10 div.sk-text-repr-fallback {display: none;}</style><div id=\"sk-container-id-10\" class=\"sk-top-container\"><div class=\"sk-text-repr-fallback\"><pre>RandomForestClassifier(n_estimators=1000, random_state=10)</pre><b>In a Jupyter environment, please rerun this cell to show the HTML representation or trust the notebook. <br />On GitHub, the HTML representation is unable to render, please try loading this page with nbviewer.org.</b></div><div class=\"sk-container\" hidden><div class=\"sk-item\"><div class=\"sk-estimator sk-toggleable\"><input class=\"sk-toggleable__control sk-hidden--visually\" id=\"sk-estimator-id-10\" type=\"checkbox\" checked><label for=\"sk-estimator-id-10\" class=\"sk-toggleable__label sk-toggleable__label-arrow\">RandomForestClassifier</label><div class=\"sk-toggleable__content\"><pre>RandomForestClassifier(n_estimators=1000, random_state=10)</pre></div></div></div></div></div>"
      ],
      "text/plain": [
       "RandomForestClassifier(n_estimators=1000, random_state=10)"
      ]
     },
     "execution_count": 70,
     "metadata": {},
     "output_type": "execute_result"
    }
   ],
   "source": [
    "rf=RandomForestClassifier(n_estimators=1000,random_state=10)\n",
    "rf.fit(X_train_scaled_1,y_train)"
   ]
  },
  {
   "cell_type": "markdown",
   "metadata": {
    "id": "JTAB3IuYU8ns"
   },
   "source": [
    "Crossed Validation"
   ]
  },
  {
   "cell_type": "code",
   "execution_count": 71,
   "metadata": {
    "colab": {
     "base_uri": "https://localhost:8080/"
    },
    "executionInfo": {
     "elapsed": 88440,
     "status": "ok",
     "timestamp": 1688598722173,
     "user": {
      "displayName": "Carlos Alberto Vaquera Araujo",
      "userId": "08698010318067463324"
     },
     "user_tz": 360
    },
    "id": "bmVcsoHfU8nt",
    "outputId": "ea2d017d-9fae-415e-8e83-a85bdbba9803"
   },
   "outputs": [
    {
     "name": "stdout",
     "output_type": "stream",
     "text": [
      "Random Forest Score = 0.9162759146341465 +/- 0.006095555310383085\n"
     ]
    }
   ],
   "source": [
    "scores_rf=cross_val_score(rf,X_train_scaled_1,y_train)\n",
    "print(f'Random Forest Score = {scores_rf.mean()} +/- {scores_rf.std()}')"
   ]
  },
  {
   "cell_type": "code",
   "execution_count": null,
   "metadata": {
    "executionInfo": {
     "elapsed": 3,
     "status": "aborted",
     "timestamp": 1688600805628,
     "user": {
      "displayName": "Carlos Alberto Vaquera Araujo",
      "userId": "08698010318067463324"
     },
     "user_tz": 360
    },
    "id": "gCeiFTQSU8nt"
   },
   "outputs": [],
   "source": [
    "y_predict_rf=rf.predict(X_test_scaled_1)"
   ]
  },
  {
   "cell_type": "markdown",
   "metadata": {
    "id": "QrKzxBg6U8nt"
   },
   "source": [
    "Confusion Matrix"
   ]
  },
  {
   "cell_type": "code",
   "execution_count": 73,
   "metadata": {
    "colab": {
     "base_uri": "https://localhost:8080/",
     "height": 328
    },
    "executionInfo": {
     "elapsed": 325,
     "status": "ok",
     "timestamp": 1688598723021,
     "user": {
      "displayName": "Carlos Alberto Vaquera Araujo",
      "userId": "08698010318067463324"
     },
     "user_tz": 360
    },
    "id": "Vdigc6sSU8nt",
    "outputId": "9e7bdbe2-2e6d-432f-a53a-bc13bf4ba8cf"
   },
   "outputs": [
    {
     "data": {
      "image/png": "[encoded data removed]",
      "text/plain": [
       "<Figure size 300x300 with 1 Axes>"
      ]
     },
     "metadata": {},
     "output_type": "display_data"
    }
   ],
   "source": [
    "class_names=[0,0]\n",
    "fig,ax=plt.subplots(figsize=(3,3))\n",
    "tick_marks=(np.arange(len(class_names)))\n",
    "plt.xticks(tick_marks,class_names)\n",
    "plt.yticks(tick_marks,class_names)\n",
    "sns.heatmap(pd.DataFrame(confusion_matrix(y_test,y_predict_rf)),annot=True,\n",
    "            cmap='Blues',fmt='g',cbar=False,\n",
    "            annot_kws={'size':20})\n",
    "ax.xaxis.set_label_position('top')\n",
    "plt.tight_layout()\n",
    "plt.ylabel('True Disposition', fontsize=15,y=0.5)\n",
    "plt.xlabel('Model Prediction', fontsize=15)\n",
    "plt.show()"
   ]
  },
  {
   "cell_type": "markdown",
   "metadata": {
    "id": "MKWWnmuQU8nt"
   },
   "source": [
    "Metrics"
   ]
  },
  {
   "cell_type": "code",
   "execution_count": 74,
   "metadata": {
    "colab": {
     "base_uri": "https://localhost:8080/"
    },
    "executionInfo": {
     "elapsed": 8,
     "status": "ok",
     "timestamp": 1688598723022,
     "user": {
      "displayName": "Carlos Alberto Vaquera Araujo",
      "userId": "08698010318067463324"
     },
     "user_tz": 360
    },
    "id": "kjIBEQBnU8nu",
    "outputId": "b1df67b2-a1af-46f3-f18b-f7c2792309b2"
   },
   "outputs": [
    {
     "name": "stdout",
     "output_type": "stream",
     "text": [
      "Precision: 0.9451957295373665\n",
      "Accuracy: 0.9230418943533698\n",
      "Recall: 0.9352112676056338\n"
     ]
    }
   ],
   "source": [
    "print(f'Precision: {precision_score(y_test,y_predict_rf)}')\n",
    "print(f'Accuracy: {accuracy_score(y_test,y_predict_rf)}')\n",
    "print(f'Recall: {recall_score(y_test,y_predict_rf)}')"
   ]
  }
 ],
 "metadata": {
  "colab": {
   "authorship_tag": "ABX9TyMIRO3x3szR2nDrK8sgEVPS",
   "mount_file_id": "1lkepJB_e4t3C9hf5sBlZgKNA6eSfF6NY",
   "provenance": [
    {
     "file_id": "18lJFskZbNwdrOMO2Qd-efBZmiGP3FLmm",
     "timestamp": 1688569598988
    },
    {
     "file_id": "1BxfQI8aOe1MtAL2bIlAvb1yXvNYw121B",
     "timestamp": 1688485795200
    },
    {
     "file_id": "1GQHXdBtn9OLpmwxHCq05otkjw4Du_YRM",
     "timestamp": 1688482764303
    }
   ]
  },
  "kernelspec": {
   "display_name": "Python 3",
   "name": "python3"
  },
  "language_info": {
   "codemirror_mode": {
    "name": "ipython",
    "version": 3
   },
   "file_extension": ".py",
   "mimetype": "text/x-python",
   "name": "python",
   "nbconvert_exporter": "python",
   "pygments_lexer": "ipython3",
   "version": "3.13.0"
  }
 },
 "nbformat": 4,
 "nbformat_minor": 0
}
